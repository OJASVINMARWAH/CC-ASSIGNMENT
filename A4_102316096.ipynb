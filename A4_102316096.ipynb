{
 "cells": [
  {
   "cell_type": "markdown",
   "metadata": {},
   "source": [
    "Q.1 Write a program to create a NumPy 1D-array with 5 elements and perform basic operations like: \n",
    "a) Addition of 2 in all the element  \n",
    "b) Multiply 3 with all the elements \n",
    "c) Divide every element by 2 "
   ]
  },
  {
   "cell_type": "code",
   "execution_count": 1,
   "metadata": {},
   "outputs": [
    {
     "name": "stdout",
     "output_type": "stream",
     "text": [
      "[4 5 6 7 8]\n",
      "[ 6  9 12 15 18]\n",
      "[1.  1.5 2.  2.5 3. ]\n"
     ]
    }
   ],
   "source": [
    "import numpy as np\n",
    "a = np.array([2,3,4,5,6])\n",
    "print(a+2)\n",
    "print(a*3)\n",
    "print(a/2)"
   ]
  },
  {
   "cell_type": "markdown",
   "metadata": {},
   "source": [
    "Q.2 Questions on Basic NumPy Array: \n",
    "a) Reverse the NumPy array: arr = np.array([1, 2, 3, 6, 4, 5]) \n",
    "b) Find the most frequent value and their indice(s) in the following arrays: \n",
    "i. x = np.array([1,2,3,4,5,1,2,1,1,1]) \n",
    "ii. y = np.array([1, 1, 1, 2, 3, 4, 2, 4, 3, 3, ])"
   ]
  },
  {
   "cell_type": "code",
   "execution_count": 2,
   "metadata": {},
   "outputs": [
    {
     "name": "stdout",
     "output_type": "stream",
     "text": [
      "[5 4 6 3 2 1]\n",
      "Most Frequent Value in x: 1\n",
      "Indices of Most Frequent Value: [0 5 7 8 9]\n",
      "Most Frequent Value in y: 1\n",
      "Indices of Most Frequent Value: [0 1 2]\n"
     ]
    }
   ],
   "source": [
    "arr = np.array([1, 2, 3, 6, 4, 5])\n",
    "print(arr[::-1])\n",
    "x = np.array([1, 2, 3, 4, 5, 1, 2, 1, 1, 1])\n",
    "y = np.array([1, 1, 1, 2, 3, 4, 2, 4, 3, 3])\n",
    "most_freq_valuex = np.bincount(x).argmax()\n",
    "most_freq_valuey = np.bincount(y).argmax()\n",
    "indicex = np.where(x == most_freq_valuex)[0]\n",
    "indicey = np.where(y == most_freq_valuex)[0]\n",
    "print(\"Most Frequent Value in x:\", most_freq_valuex)\n",
    "print(\"Indices of Most Frequent Value:\", indicex)\n",
    "print(\"Most Frequent Value in y:\", most_freq_valuey)\n",
    "print(\"Indices of Most Frequent Value:\", indicey)"
   ]
  },
  {
   "cell_type": "markdown",
   "metadata": {},
   "source": [
    "Q.3 For the given 2-D array arr=np.array([10, 20, 30], [40, 50, 60], [70, 80, 90]), access \n",
    "elements using row and column indices as follows: \n",
    "a) Access 1st row, 2nd column  \n",
    "b) Access 3rd row, 1st column "
   ]
  },
  {
   "cell_type": "code",
   "execution_count": 3,
   "metadata": {},
   "outputs": [
    {
     "name": "stdout",
     "output_type": "stream",
     "text": [
      "[[10 20 30]\n",
      " [40 50 60]\n",
      " [70 80 90]]\n",
      "1st row, 2nd column:  20\n",
      "3rd row, 1st column:  70\n"
     ]
    }
   ],
   "source": [
    "arr=np.array([[10, 20, 30], [40, 50, 60], [70, 80, 90]])\n",
    "print(arr)\n",
    "print(\"1st row, 2nd column: \", arr[0][1])\n",
    "print(\"3rd row, 1st column: \", arr[2][0])"
   ]
  },
  {
   "cell_type": "markdown",
   "metadata": {},
   "source": [
    "Q.4 Write program to create an 1-D NumPy array named <<Your Name>> with evenly \n",
    "spaced 25 numbers from 10 to 100 using linspace(). Print the dimensions of the array, \n",
    "shape, total elements, the data type of each element and total number of bytes consumed \n",
    "by the array. Find the transpose of this array using reshape() attribute. Can we do the same \n",
    "with T attribute?"
   ]
  },
  {
   "cell_type": "code",
   "execution_count": 4,
   "metadata": {},
   "outputs": [
    {
     "name": "stdout",
     "output_type": "stream",
     "text": [
      "[ 10.    13.75  17.5   21.25  25.    28.75  32.5   36.25  40.    43.75\n",
      "  47.5   51.25  55.    58.75  62.5   66.25  70.    73.75  77.5   81.25\n",
      "  85.    88.75  92.5   96.25 100.  ]\n",
      "Dimensions:  1\n",
      "Shape:  (25,)\n",
      "Total Elements:  25\n",
      "Datatype:  float64\n",
      "No. of bytes:  200\n",
      "Transpose:  [[ 10.  ]\n",
      " [ 13.75]\n",
      " [ 17.5 ]\n",
      " [ 21.25]\n",
      " [ 25.  ]\n",
      " [ 28.75]\n",
      " [ 32.5 ]\n",
      " [ 36.25]\n",
      " [ 40.  ]\n",
      " [ 43.75]\n",
      " [ 47.5 ]\n",
      " [ 51.25]\n",
      " [ 55.  ]\n",
      " [ 58.75]\n",
      " [ 62.5 ]\n",
      " [ 66.25]\n",
      " [ 70.  ]\n",
      " [ 73.75]\n",
      " [ 77.5 ]\n",
      " [ 81.25]\n",
      " [ 85.  ]\n",
      " [ 88.75]\n",
      " [ 92.5 ]\n",
      " [ 96.25]\n",
      " [100.  ]]\n"
     ]
    }
   ],
   "source": [
    "naman = np.linspace(10,100,25)\n",
    "print(naman)\n",
    "print(\"Dimensions: \", naman.ndim)\n",
    "print(\"Shape: \", naman.shape)\n",
    "print(\"Total Elements: \", naman.size)\n",
    "print(\"Datatype: \", naman.dtype)\n",
    "print(\"No. of bytes: \", naman.nbytes)\n",
    "print(\"Transpose: \", naman.reshape(25,1))\n",
    "# print(\"Transpose: \", naman.T)             # Yes"
   ]
  },
  {
   "cell_type": "markdown",
   "metadata": {},
   "source": [
    "Q5. Create a 2-D Array of three rows and four columns, named ucs420_<your_name>> \n",
    "with following values – 10, 20, 30, 40, 50, 60, 70, 80, 90, 15, 20, 35. Compute the mean, \n",
    "median, max, min, unique elements. Reshape the array to four rows and three columns and \n",
    "name it as reshaped_ ucs420_<your_name>>. Resize the array to two rows and three \n",
    "columns and name it as resized_ ucs420_<your_name>>."
   ]
  },
  {
   "cell_type": "code",
   "execution_count": 5,
   "metadata": {},
   "outputs": [
    {
     "name": "stdout",
     "output_type": "stream",
     "text": [
      "[[10 20 30 40]\n",
      " [50 60 70 80]\n",
      " [90 15 20 35]]\n",
      "Mean:  43.333333333333336\n",
      "Median:  37.5\n",
      "Max:  90\n",
      "Min:  10\n",
      "Unique Elements:  [10 15 20 30 35 40 50 60 70 80 90]\n",
      "[[10 20 30]\n",
      " [40 50 60]\n",
      " [70 80 90]\n",
      " [15 20 35]]\n",
      "[[10 20 30]\n",
      " [40 50 60]]\n"
     ]
    }
   ],
   "source": [
    "ucs420_naman = np.array([[10,20,30,40],[50,60,70,80],[90,15,20,35]])\n",
    "print(ucs420_naman)\n",
    "print(\"Mean: \", np.mean(ucs420_naman))\n",
    "print(\"Median: \", np.median(ucs420_naman))\n",
    "print(\"Max: \", np.max(ucs420_naman))\n",
    "print(\"Min: \", np.min(ucs420_naman))\n",
    "print(\"Unique Elements: \", np.unique(ucs420_naman))\n",
    "\n",
    "reshaped_ucs420_naman = ucs420_naman.reshape(4,3)\n",
    "print(reshaped_ucs420_naman)\n",
    "\n",
    "resized_ucs420_naman = np.resize(ucs420_naman, (2,3))\n",
    "print(resized_ucs420_naman)"
   ]
  }
 ],
 "metadata": {
  "kernelspec": {
   "display_name": "Python 3",
   "language": "python",
   "name": "python3"
  },
  "language_info": {
   "codemirror_mode": {
    "name": "ipython",
    "version": 3
   },
   "file_extension": ".py",
   "mimetype": "text/x-python",
   "name": "python",
   "nbconvert_exporter": "python",
   "pygments_lexer": "ipython3",
   "version": "3.12.1"
  }
 },
 "nbformat": 4,
 "nbformat_minor": 2
}
